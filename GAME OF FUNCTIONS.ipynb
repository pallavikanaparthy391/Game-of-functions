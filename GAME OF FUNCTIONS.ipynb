{
 "cells": [
  {
   "cell_type": "code",
   "execution_count": 3,
   "id": "40a2aac6",
   "metadata": {},
   "outputs": [
    {
     "name": "stdout",
     "output_type": "stream",
     "text": [
      "20\n"
     ]
    }
   ],
   "source": [
    "def summ(num):  #define a function\n",
    "    sum = 0#a\n",
    "    for i in num:      #adding the given inputs\n",
    "        sum+=i\n",
    "    return sum\n",
    "num = (8,2,3,0,7)     #taken as input\n",
    "print(summ(num))      #print the output"
   ]
  },
  {
   "cell_type": "code",
   "execution_count": null,
   "id": "da7589a5",
   "metadata": {},
   "outputs": [],
   "source": []
  },
  {
   "cell_type": "markdown",
   "id": "9cef4238",
   "metadata": {},
   "source": [
    "TEST CASES\n"
   ]
  },
  {
   "cell_type": "code",
   "execution_count": 6,
   "id": "b0f9a7c5",
   "metadata": {},
   "outputs": [
    {
     "name": "stdout",
     "output_type": "stream",
     "text": [
      "-33\n"
     ]
    }
   ],
   "source": [
    "def summ(num):       #define a function\n",
    "    sum = 0\n",
    "    for i in num:      #adding the given inputs\n",
    "        sum+=i\n",
    "    return sum\n",
    "num = (1,6,2,-45,0,3)    #taken as input\n",
    "print(summ(num))         #print the output"
   ]
  },
  {
   "cell_type": "markdown",
   "id": "bc196f30",
   "metadata": {},
   "source": [
    "Test case"
   ]
  },
  {
   "cell_type": "code",
   "execution_count": 7,
   "id": "b7caa9c3",
   "metadata": {},
   "outputs": [
    {
     "name": "stdout",
     "output_type": "stream",
     "text": [
      "78.93\n"
     ]
    }
   ],
   "source": [
    "def summ(num):       #define a function\n",
    "    sum = 0\n",
    "    for i in num:      #adding the given inputs\n",
    "        sum+=i\n",
    "    return sum\n",
    "num = (9,5,57.93,2,5)     #taken as input\n",
    "print(summ(num))          #print the output"
   ]
  },
  {
   "cell_type": "code",
   "execution_count": null,
   "id": "016faf36",
   "metadata": {},
   "outputs": [],
   "source": []
  }
 ],
 "metadata": {
  "kernelspec": {
   "display_name": "Python 3 (ipykernel)",
   "language": "python",
   "name": "python3"
  },
  "language_info": {
   "codemirror_mode": {
    "name": "ipython",
    "version": 3
   },
   "file_extension": ".py",
   "mimetype": "text/x-python",
   "name": "python",
   "nbconvert_exporter": "python",
   "pygments_lexer": "ipython3",
   "version": "3.10.1"
  }
 },
 "nbformat": 4,
 "nbformat_minor": 5
}
